{
  "nbformat": 4,
  "nbformat_minor": 0,
  "metadata": {
    "colab": {
      "provenance": []
    },
    "kernelspec": {
      "name": "python3",
      "display_name": "Python 3"
    },
    "language_info": {
      "name": "python"
    }
  },
  "cells": [
    {
      "cell_type": "markdown",
      "source": [
        "#Python Basics"
      ],
      "metadata": {
        "id": "Z9mzS5g7bNNt"
      }
    },
    {
      "cell_type": "markdown",
      "source": [
        "##Theoretical Question & Answers"
      ],
      "metadata": {
        "id": "0ieGrzAjkENZ"
      }
    },
    {
      "cell_type": "markdown",
      "source": [
        "1. What is Python, and why is it popular?\n",
        "\n",
        "   -> A highly versatile and popular language, Python is known for its easy-to-understand syntax and interpreted nature. Its extensive libraries and robust community support its use in areas ranging from web development to data science and AI."
      ],
      "metadata": {
        "id": "QzcMv66AcRv-"
      }
    },
    {
      "cell_type": "markdown",
      "source": [
        "2. What is an interpreter in Python?\n",
        "   \n",
        "   -> The way Python code runs is through an interpreter that reads each line, translates it into machine instructions, and then immediately carries them out."
      ],
      "metadata": {
        "id": "pT-S18xrdC0G"
      }
    },
    {
      "cell_type": "markdown",
      "source": [
        "3. What are pre-defined keywords in Python?\n",
        "   \n",
        "   -> Pre-defined keywords, also known as reserved words, are special identifiers in Python that have specific meanings and purposes within the language's syntax such as if, else, while, for, def, etc."
      ],
      "metadata": {
        "id": "-qqCqKTXda5K"
      }
    },
    {
      "cell_type": "markdown",
      "source": [
        "4. Can keywords be used as variable names?\n",
        "   \n",
        "   -> No, keywords cannot be used as variable names."
      ],
      "metadata": {
        "id": "CVYZeU3vd0aj"
      }
    },
    {
      "cell_type": "markdown",
      "source": [
        "5. What is mutability in Python?\n",
        "   \n",
        "   -> Mutability in Python refers to the ability of an object to be changed after it is created."
      ],
      "metadata": {
        "id": "HPPyp87neFNX"
      }
    },
    {
      "cell_type": "markdown",
      "source": [
        "6. Why are lists mutable, but tuples are immutable?\n",
        "   \n",
        "   -> Python lists are mutable because they are intended for scenarios involving dynamic data where modifications are frequent. Tuples, on the other hand, are immutable to safeguard the data within fixed collections, ensuring it remains unchanged."
      ],
      "metadata": {
        "id": "NsNh8K4WeX9s"
      }
    },
    {
      "cell_type": "markdown",
      "source": [
        "7. What is the difference between “==” and “is” operators in Python?\n",
        "   \n",
        "   -> The \"==\" operator checks if the values of two objects are the same whereas, the \"is\" operator checks if two variables refer to the same object in memory."
      ],
      "metadata": {
        "id": "y7WGFKz9evcx"
      }
    },
    {
      "cell_type": "markdown",
      "source": [
        "8. What are logical operators in Python?\n",
        "   \n",
        "   -> Logical operators are and, or, and not, used to combine conditional statements."
      ],
      "metadata": {
        "id": "gqzg6gUjfg6n"
      }
    },
    {
      "cell_type": "markdown",
      "source": [
        "9. What is type casting in Python?\n",
        "   \n",
        "   -> By performing type casting, you can convert a variable's data type. A common example is changing an integer value into its floating-point representation."
      ],
      "metadata": {
        "id": "a05GlnqTf6dT"
      }
    },
    {
      "cell_type": "markdown",
      "source": [
        "10. What is the difference between implicit and explicit type casting?\n",
        "    \n",
        "    -> Implicit: Python performs these type conversions behind the scenes, such as automatically converting an integer to a float within an expression.\n",
        "    \n",
        "    -> Explicit: Manual type conversion using functions like int(), float(), str(), etc. For example, int(\"3\") is an explicit conversion of the string to an integer."
      ],
      "metadata": {
        "id": "wdjOveCwg7A5"
      }
    },
    {
      "cell_type": "markdown",
      "source": [
        "11. What is the purpose of conditional statements in Python?\n",
        "\n",
        "    -> The purpose of conditional statements (if, elif, else) in Python is to control the flow of execution in a program based on whether certain conditions evaluate to True or False."
      ],
      "metadata": {
        "id": "Xb2uuMInhkiN"
      }
    },
    {
      "cell_type": "markdown",
      "source": [
        "12. How does the elif statement work?\n",
        "\n",
        "    -> elif allows you to check multiple conditions in sequence within an if block."
      ],
      "metadata": {
        "id": "k0GhGvkKiS3m"
      }
    },
    {
      "cell_type": "markdown",
      "source": [
        "13. What is the difference between for and while loops?\n",
        "\n",
        "    -> for loops iterate over a sequence, while while loops repeat as long as a condition is true."
      ],
      "metadata": {
        "id": "asF16T1iinq8"
      }
    },
    {
      "cell_type": "markdown",
      "source": [
        "14. Describe a scenario where a while loop is more suitable than a for loop.\n",
        "\n",
        "    -> In a scenario where a game in loop keeps running until a specific game-over condition is fulfilled, such as the player losing all lives or completing the level."
      ],
      "metadata": {
        "id": "eMdZMKVrjB58"
      }
    },
    {
      "cell_type": "markdown",
      "source": [
        "##Practical Question & Answers"
      ],
      "metadata": {
        "id": "ukfBF1AXj4xQ"
      }
    },
    {
      "cell_type": "markdown",
      "source": [
        "1. Write a Python program to print \"Hello, World!\""
      ],
      "metadata": {
        "id": "_55C17bEkfE-"
      }
    },
    {
      "cell_type": "code",
      "source": [
        "#Answer\n",
        "\n",
        "print(\"Hello, World!\")"
      ],
      "metadata": {
        "colab": {
          "base_uri": "https://localhost:8080/"
        },
        "id": "i1P1xcOBlBVa",
        "outputId": "a0d39d6e-459f-4600-995e-9286dbc66e85"
      },
      "execution_count": null,
      "outputs": [
        {
          "output_type": "stream",
          "name": "stdout",
          "text": [
            "Hello, World!\n"
          ]
        }
      ]
    },
    {
      "cell_type": "markdown",
      "source": [
        "2. Write a Python program that displays your name and age."
      ],
      "metadata": {
        "id": "MF3FBIPtlJEd"
      }
    },
    {
      "cell_type": "code",
      "source": [
        "#Answer\n",
        "\n",
        "name = input(\"Enter name: \")\n",
        "age = input(\"Enter age: \")\n",
        "\n",
        "print(f\"My name is {name} and I am {age} years old.\")"
      ],
      "metadata": {
        "colab": {
          "base_uri": "https://localhost:8080/"
        },
        "id": "W2d6WPFvlPTC",
        "outputId": "305a1287-0f47-4a1e-c550-1191113f76bf"
      },
      "execution_count": null,
      "outputs": [
        {
          "output_type": "stream",
          "name": "stdout",
          "text": [
            "Enter name: Bidisha Das\n",
            "Enter age: 27\n",
            "My name is Bidisha Das and I am 27 years old.\n"
          ]
        }
      ]
    },
    {
      "cell_type": "markdown",
      "source": [
        "3. Write code to print all the pre-defined keywords in Python using the keyword library."
      ],
      "metadata": {
        "id": "ZWwhczbDl1P7"
      }
    },
    {
      "cell_type": "code",
      "source": [
        "#Answer\n",
        "\n",
        "import keyword\n",
        "print(keyword.kwlist)"
      ],
      "metadata": {
        "colab": {
          "base_uri": "https://localhost:8080/"
        },
        "id": "ep9TubwZl9Qg",
        "outputId": "aaa9b776-f386-4a4a-c3a6-16d442b8bfbb"
      },
      "execution_count": null,
      "outputs": [
        {
          "output_type": "stream",
          "name": "stdout",
          "text": [
            "['False', 'None', 'True', 'and', 'as', 'assert', 'async', 'await', 'break', 'class', 'continue', 'def', 'del', 'elif', 'else', 'except', 'finally', 'for', 'from', 'global', 'if', 'import', 'in', 'is', 'lambda', 'nonlocal', 'not', 'or', 'pass', 'raise', 'return', 'try', 'while', 'with', 'yield']\n"
          ]
        }
      ]
    },
    {
      "cell_type": "markdown",
      "source": [
        "4. Write a program that checks if a given word is a Python keyword."
      ],
      "metadata": {
        "id": "FrgYEEejmKXB"
      }
    },
    {
      "cell_type": "code",
      "source": [
        "#Answer\n",
        "\n",
        "import keyword\n",
        "\n",
        "word = input(\"Enter a word: \")\n",
        "if keyword.iskeyword(word):\n",
        "    print(f\"'{word}' is a Python keyword.\")\n",
        "else:\n",
        "    print(f\"'{word}' is NOT a Python keyword.\")"
      ],
      "metadata": {
        "colab": {
          "base_uri": "https://localhost:8080/"
        },
        "id": "qMd8-JBHmRmp",
        "outputId": "cf22e01d-2623-432b-9b58-89328c26c656"
      },
      "execution_count": null,
      "outputs": [
        {
          "output_type": "stream",
          "name": "stdout",
          "text": [
            "Enter a word: if\n",
            "'if' is a Python keyword.\n"
          ]
        }
      ]
    },
    {
      "cell_type": "markdown",
      "source": [
        "5. Create a list and tuple in Python, and demonstrate how attempting to change an element works differently for each."
      ],
      "metadata": {
        "id": "4sSo9s9Xmru6"
      }
    },
    {
      "cell_type": "code",
      "source": [
        "#Answer\n",
        "\n",
        "# Mutable: list\n",
        "my_list = [1, 2, 3]\n",
        "my_list[0] = 100  # Works\n",
        "\n",
        "# Immutable: tuple\n",
        "my_tuple = (1, 2, 3)\n",
        "# my_tuple[0] = 100  # Raises an error\n",
        "\n",
        "print(\"List:\", my_list)\n",
        "print(\"Tuple:\", my_tuple)"
      ],
      "metadata": {
        "colab": {
          "base_uri": "https://localhost:8080/"
        },
        "id": "xGxGbVjwm3bh",
        "outputId": "bb9b6e4d-700e-4838-bbfa-fd53922233f6"
      },
      "execution_count": 1,
      "outputs": [
        {
          "output_type": "stream",
          "name": "stdout",
          "text": [
            "List: [100, 2, 3]\n",
            "Tuple: (1, 2, 3)\n"
          ]
        }
      ]
    },
    {
      "cell_type": "markdown",
      "source": [
        "6. Write a function to demonstrate the behavior of mutable and immutable arguments."
      ],
      "metadata": {
        "id": "duQYTuDs1Exh"
      }
    },
    {
      "cell_type": "code",
      "source": [
        "#Answer\n",
        "\n",
        "def modify_all(lst, num):\n",
        "    lst.append(10)  # Mutable change\n",
        "    num += 5        # Immutable (creates new int)\n",
        "\n",
        "a_list = [1, 2]\n",
        "a_number = 5\n",
        "modify_all(a_list, a_number)\n",
        "print(\"List after function call:\", a_list)\n",
        "print(\"Number after function call:\", a_number)"
      ],
      "metadata": {
        "colab": {
          "base_uri": "https://localhost:8080/"
        },
        "id": "AyIxWmlw1bRx",
        "outputId": "828879e3-459e-406d-f6ae-ccc33b2af2f6"
      },
      "execution_count": null,
      "outputs": [
        {
          "output_type": "stream",
          "name": "stdout",
          "text": [
            "List after function call: [1, 2, 10]\n",
            "Number after function call: 5\n"
          ]
        }
      ]
    },
    {
      "cell_type": "markdown",
      "source": [
        "7. Write a program that performs basic arithmetic operations on two user-input numbers."
      ],
      "metadata": {
        "id": "ARoM3dbx144W"
      }
    },
    {
      "cell_type": "code",
      "source": [
        "#Answer\n",
        "\n",
        "a = float(input(\"Enter first number: \"))\n",
        "b = float(input(\"Enter second number: \"))\n",
        "\n",
        "print(\"Sum:\", a + b)\n",
        "print(\"Difference:\", a - b)\n",
        "print(\"Product:\", a * b)\n",
        "if b!=0:\n",
        "    print(\"Quotient:\", a / b)\n",
        "else:\n",
        "    print(\"Quotient: Error- Division by zero is not allowed.\")"
      ],
      "metadata": {
        "colab": {
          "base_uri": "https://localhost:8080/"
        },
        "id": "ZlL2EcRn2EUo",
        "outputId": "3db930d7-3e05-4deb-c02c-996dea903937"
      },
      "execution_count": null,
      "outputs": [
        {
          "output_type": "stream",
          "name": "stdout",
          "text": [
            "Enter first number: 6\n",
            "Enter second number: 0\n",
            "Sum: 6.0\n",
            "Difference: 6.0\n",
            "Product: 0.0\n",
            "Quotient: Error- Division by zero is not allowed.\n"
          ]
        }
      ]
    },
    {
      "cell_type": "markdown",
      "source": [
        "8. Write a program to demonstrate the use of logical operators."
      ],
      "metadata": {
        "id": "iTMSqdpz4VTx"
      }
    },
    {
      "cell_type": "code",
      "source": [
        "#Answer\n",
        "\n",
        "x = float(input(\"Enter first number as X: \"))\n",
        "y = float(input(\"Enter second number as Y: \"))\n",
        "\n",
        "if x > y:\n",
        "    print(\"X is greater than Y\")\n",
        "elif x < y:\n",
        "    print(\"Y is greater than X\")\n",
        "else:\n",
        "    print(\"X & Y both are equal\")"
      ],
      "metadata": {
        "colab": {
          "base_uri": "https://localhost:8080/"
        },
        "id": "TgGjDLKy4eA_",
        "outputId": "9523e1a8-f5b7-4ee2-bdf0-e8b89c007d8d"
      },
      "execution_count": null,
      "outputs": [
        {
          "output_type": "stream",
          "name": "stdout",
          "text": [
            "Enter first number as X: 8\n",
            "Enter second number as Y: 4\n",
            "X is greater than Y\n"
          ]
        }
      ]
    },
    {
      "cell_type": "markdown",
      "source": [
        "9. Write a Python program to convert user input from string to integer, float, and boolean types."
      ],
      "metadata": {
        "id": "wPj6Q71o6sQ5"
      }
    },
    {
      "cell_type": "code",
      "source": [
        "#Answer\n",
        "\n",
        "val = input(\"Enter a value: \")\n",
        "print(\"As integer:\", int(val))\n",
        "print(\"As float:\", float(val))\n",
        "print(\"As boolean:\", bool(val))"
      ],
      "metadata": {
        "id": "RTcNnbGr6zGP",
        "colab": {
          "base_uri": "https://localhost:8080/"
        },
        "outputId": "0f3295d5-e4a2-4605-c23c-8e507a91a6ed"
      },
      "execution_count": 27,
      "outputs": [
        {
          "output_type": "stream",
          "name": "stdout",
          "text": [
            "Enter a value: 10\n",
            "As integer: 10\n",
            "As float: 10.0\n",
            "As boolean: True\n"
          ]
        }
      ]
    },
    {
      "cell_type": "markdown",
      "source": [
        "10. Write code to demonstrate type casting with list elements."
      ],
      "metadata": {
        "id": "2sSahXc48JQd"
      }
    },
    {
      "cell_type": "code",
      "source": [
        "#Answer\n",
        "\n",
        "string_list = ['1', '2', '3']\n",
        "int_list = list(map(int, string_list))\n",
        "print(\"Converted list:\", int_list)"
      ],
      "metadata": {
        "colab": {
          "base_uri": "https://localhost:8080/"
        },
        "id": "KHbHAtcn8TPn",
        "outputId": "358957c6-5820-4751-be15-ab24e1d95ab2"
      },
      "execution_count": 30,
      "outputs": [
        {
          "output_type": "stream",
          "name": "stdout",
          "text": [
            "Converted list: [1, 2, 3]\n"
          ]
        }
      ]
    },
    {
      "cell_type": "markdown",
      "source": [
        "11. Write a program that checks if a number is positive, negative, or zero."
      ],
      "metadata": {
        "id": "XGRmSk679bKp"
      }
    },
    {
      "cell_type": "code",
      "source": [
        "#Answer\n",
        "\n",
        "num = float(input(\"Enter a number: \"))\n",
        "\n",
        "if num > 0:\n",
        "    print(\"The given number is a positive number\")\n",
        "elif num < 0:\n",
        "    print(\"The given number is a negative number\")\n",
        "else:\n",
        "    print(\"The given number is zero\")"
      ],
      "metadata": {
        "colab": {
          "base_uri": "https://localhost:8080/"
        },
        "id": "GsbQM0uC9mS_",
        "outputId": "786ccf0f-8781-4b7d-cd0f-01ee834eb0e8"
      },
      "execution_count": 31,
      "outputs": [
        {
          "output_type": "stream",
          "name": "stdout",
          "text": [
            "Enter a number: 0\n",
            "The given number is zero\n"
          ]
        }
      ]
    },
    {
      "cell_type": "markdown",
      "source": [
        "12. Write a for loop to print numbers from 1 to 10."
      ],
      "metadata": {
        "id": "Yz1CgJ6F-Aq2"
      }
    },
    {
      "cell_type": "code",
      "source": [
        "#Answer\n",
        "\n",
        "for i in range(1, 11):\n",
        "    print(i)"
      ],
      "metadata": {
        "colab": {
          "base_uri": "https://localhost:8080/"
        },
        "id": "FbNDRZYp-HCO",
        "outputId": "52c792d1-48ac-4769-b32c-37a5d7643349"
      },
      "execution_count": 32,
      "outputs": [
        {
          "output_type": "stream",
          "name": "stdout",
          "text": [
            "1\n",
            "2\n",
            "3\n",
            "4\n",
            "5\n",
            "6\n",
            "7\n",
            "8\n",
            "9\n",
            "10\n"
          ]
        }
      ]
    },
    {
      "cell_type": "markdown",
      "source": [
        "13. Write a Python program to find the sum of all even numbers between 1 and 50."
      ],
      "metadata": {
        "id": "6k56UGEK-aFy"
      }
    },
    {
      "cell_type": "code",
      "source": [
        "#Answer\n",
        "\n",
        "total = 0\n",
        "for i in range(1, 51):\n",
        "    if i % 2 == 0:\n",
        "        total += i\n",
        "print(\"Sum of even numbers from 1 to 50:\", total)"
      ],
      "metadata": {
        "colab": {
          "base_uri": "https://localhost:8080/"
        },
        "id": "NiBYZXSb-iP6",
        "outputId": "daab0263-94d5-4518-8e78-12579d009b84"
      },
      "execution_count": 33,
      "outputs": [
        {
          "output_type": "stream",
          "name": "stdout",
          "text": [
            "Sum of even numbers from 1 to 50: 650\n"
          ]
        }
      ]
    },
    {
      "cell_type": "markdown",
      "source": [
        "14. Write a program to reverse a string using a while loop."
      ],
      "metadata": {
        "id": "Q0kJjUON-3JS"
      }
    },
    {
      "cell_type": "code",
      "source": [
        "#Answer\n",
        "\n"
      ],
      "metadata": {
        "id": "exXnbuon_BmL"
      },
      "execution_count": null,
      "outputs": []
    },
    {
      "cell_type": "markdown",
      "source": [
        "15. Write a Python program to calculate the factorial of a number provided by the user using a while loop."
      ],
      "metadata": {
        "id": "nXntuFxj_Tou"
      }
    },
    {
      "cell_type": "code",
      "source": [
        "#Answer\n",
        "\n",
        "n = int(input(\"Enter a number: \"))\n",
        "factorial = 1\n",
        "\n",
        "while n > 0:\n",
        "    factorial *= n\n",
        "    n -= 1\n",
        "\n",
        "print(\"Factorial:\", factorial)"
      ],
      "metadata": {
        "colab": {
          "base_uri": "https://localhost:8080/"
        },
        "id": "rdMhPZ92_vKd",
        "outputId": "df638f9c-f272-4580-eafa-06280c957a3b"
      },
      "execution_count": 34,
      "outputs": [
        {
          "output_type": "stream",
          "name": "stdout",
          "text": [
            "Enter a number: 6\n",
            "Factorial: 720\n"
          ]
        }
      ]
    }
  ]
}